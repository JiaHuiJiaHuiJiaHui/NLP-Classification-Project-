{
 "cells": [
  {
   "cell_type": "code",
   "execution_count": 1,
   "id": "a38ff4b4-14d2-417b-b367-75b3f5cb07f4",
   "metadata": {},
   "outputs": [],
   "source": [
    "import requests\n",
    "import time \n",
    "import pandas as pd"
   ]
  },
  {
   "cell_type": "code",
   "execution_count": 2,
   "id": "987dad32-782e-4af0-a4aa-62b9b885c0e8",
   "metadata": {},
   "outputs": [],
   "source": [
    "url = 'https://www.reddit.com/r/disneyparks.json'"
   ]
  },
  {
   "cell_type": "code",
   "execution_count": 3,
   "id": "4b26a73a-61ad-4f61-9edd-eb4948d78e18",
   "metadata": {},
   "outputs": [],
   "source": [
    "headers = {'user-agent': 'Jessica 0.1'}"
   ]
  },
  {
   "cell_type": "code",
   "execution_count": 4,
   "id": "ceb13ed1-d62c-4bdb-98a5-d72d208530b9",
   "metadata": {},
   "outputs": [],
   "source": [
    "res = requests.get(url,headers=headers)"
   ]
  },
  {
   "cell_type": "code",
   "execution_count": 5,
   "id": "77d28b32-c694-456b-abb2-17f3042a5a14",
   "metadata": {},
   "outputs": [
    {
     "data": {
      "text/plain": [
       "200"
      ]
     },
     "execution_count": 5,
     "metadata": {},
     "output_type": "execute_result"
    }
   ],
   "source": [
    "res.status_code"
   ]
  },
  {
   "cell_type": "code",
   "execution_count": 6,
   "id": "91cc318e-f8c6-4723-b768-ff264ee64dc9",
   "metadata": {},
   "outputs": [],
   "source": [
    "json = res.json()"
   ]
  },
  {
   "cell_type": "code",
   "execution_count": 7,
   "id": "bbb25f29-0ee8-4094-a684-b2df9d8f195b",
   "metadata": {},
   "outputs": [
    {
     "data": {
      "text/plain": [
       "['data', 'kind']"
      ]
     },
     "execution_count": 7,
     "metadata": {},
     "output_type": "execute_result"
    }
   ],
   "source": [
    "sorted(json.keys())"
   ]
  },
  {
   "cell_type": "code",
   "execution_count": 8,
   "id": "4fa6b350-32d4-490f-97cb-959505173efa",
   "metadata": {},
   "outputs": [
    {
     "data": {
      "text/plain": [
       "dict_keys(['after', 'dist', 'modhash', 'geo_filter', 'children', 'before'])"
      ]
     },
     "execution_count": 8,
     "metadata": {},
     "output_type": "execute_result"
    }
   ],
   "source": [
    "json['data'].keys()"
   ]
  },
  {
   "cell_type": "code",
   "execution_count": 9,
   "id": "2eb35ded-0c23-4651-be4d-beac75bf7b2e",
   "metadata": {},
   "outputs": [
    {
     "data": {
      "text/plain": [
       "25"
      ]
     },
     "execution_count": 9,
     "metadata": {},
     "output_type": "execute_result"
    }
   ],
   "source": [
    "len(json['data']['children'])"
   ]
  },
  {
   "cell_type": "code",
   "execution_count": 10,
   "id": "28f882de-c3e7-4a54-9817-119ac088d82b",
   "metadata": {},
   "outputs": [],
   "source": [
    "disney_df = pd.DataFrame(json['data']['children']) "
   ]
  },
  {
   "cell_type": "code",
   "execution_count": 11,
   "id": "5266a82f-c272-43ce-b501-b95e4cbe6d08",
   "metadata": {},
   "outputs": [
    {
     "data": {
      "text/html": [
       "<div>\n",
       "<style scoped>\n",
       "    .dataframe tbody tr th:only-of-type {\n",
       "        vertical-align: middle;\n",
       "    }\n",
       "\n",
       "    .dataframe tbody tr th {\n",
       "        vertical-align: top;\n",
       "    }\n",
       "\n",
       "    .dataframe thead th {\n",
       "        text-align: right;\n",
       "    }\n",
       "</style>\n",
       "<table border=\"1\" class=\"dataframe\">\n",
       "  <thead>\n",
       "    <tr style=\"text-align: right;\">\n",
       "      <th></th>\n",
       "      <th>kind</th>\n",
       "      <th>data</th>\n",
       "    </tr>\n",
       "  </thead>\n",
       "  <tbody>\n",
       "    <tr>\n",
       "      <th>0</th>\n",
       "      <td>t3</td>\n",
       "      <td>{'approved_at_utc': None, 'subreddit': 'disney...</td>\n",
       "    </tr>\n",
       "    <tr>\n",
       "      <th>1</th>\n",
       "      <td>t3</td>\n",
       "      <td>{'approved_at_utc': None, 'subreddit': 'disney...</td>\n",
       "    </tr>\n",
       "    <tr>\n",
       "      <th>2</th>\n",
       "      <td>t3</td>\n",
       "      <td>{'approved_at_utc': None, 'subreddit': 'disney...</td>\n",
       "    </tr>\n",
       "  </tbody>\n",
       "</table>\n",
       "</div>"
      ],
      "text/plain": [
       "  kind                                               data\n",
       "0   t3  {'approved_at_utc': None, 'subreddit': 'disney...\n",
       "1   t3  {'approved_at_utc': None, 'subreddit': 'disney...\n",
       "2   t3  {'approved_at_utc': None, 'subreddit': 'disney..."
      ]
     },
     "execution_count": 11,
     "metadata": {},
     "output_type": "execute_result"
    }
   ],
   "source": [
    "disney_df.head(3)"
   ]
  },
  {
   "cell_type": "code",
   "execution_count": 12,
   "id": "66d87483-9fd0-4ab4-b095-7cc3726d08cf",
   "metadata": {},
   "outputs": [
    {
     "data": {
      "text/plain": [
       "'t3_1bvmiwy'"
      ]
     },
     "execution_count": 12,
     "metadata": {},
     "output_type": "execute_result"
    }
   ],
   "source": [
    "json['data']['after']"
   ]
  },
  {
   "cell_type": "code",
   "execution_count": 13,
   "id": "a3cff645-9372-42d0-a71d-e72b1a0a1347",
   "metadata": {},
   "outputs": [
    {
     "data": {
      "text/plain": [
       "['t3_1byh1bg',\n",
       " 't3_1bynok8',\n",
       " 't3_1byyb6u',\n",
       " 't3_1by8xf8',\n",
       " 't3_1byhfjz',\n",
       " 't3_1bybmys',\n",
       " 't3_1byhkrp',\n",
       " 't3_1bx5n21',\n",
       " 't3_1bwy591',\n",
       " 't3_1bx3b8g',\n",
       " 't3_1bxf7d2',\n",
       " 't3_1bwooj0',\n",
       " 't3_1bwmjg8',\n",
       " 't3_1bwk467',\n",
       " 't3_1bxvnrb',\n",
       " 't3_1bwiyzl',\n",
       " 't3_1bw3njw',\n",
       " 't3_1bwt2qg',\n",
       " 't3_1bwxg12',\n",
       " 't3_1bvzhyf',\n",
       " 't3_1bvvakt',\n",
       " 't3_1bw2e5h',\n",
       " 't3_1bv70fw',\n",
       " 't3_1bw1o0y',\n",
       " 't3_1bvmiwy']"
      ]
     },
     "execution_count": 13,
     "metadata": {},
     "output_type": "execute_result"
    }
   ],
   "source": [
    "[post['data']['name'] for post in json['data']['children']]"
   ]
  },
  {
   "cell_type": "code",
   "execution_count": 14,
   "id": "c01eb036-97a6-41a1-9fa4-d28c695e86e3",
   "metadata": {},
   "outputs": [],
   "source": [
    "param = {'after': 't3_1bfjjvr'}"
   ]
  },
  {
   "cell_type": "code",
   "execution_count": 15,
   "id": "22fa1d9f-bcc8-462a-bca5-219188e7f385",
   "metadata": {},
   "outputs": [
    {
     "data": {
      "text/plain": [
       "<Response [200]>"
      ]
     },
     "execution_count": 15,
     "metadata": {},
     "output_type": "execute_result"
    }
   ],
   "source": [
    "requests.get(url,params=param,headers=headers)"
   ]
  },
  {
   "cell_type": "markdown",
   "id": "538ce78f-09ac-477f-aa6d-2f58fb6542ee",
   "metadata": {},
   "source": [
    "### Key Exploration to filter out the important keys"
   ]
  },
  {
   "cell_type": "code",
   "execution_count": 16,
   "id": "6ef76650-7c24-494c-a107-2670fc109a95",
   "metadata": {},
   "outputs": [
    {
     "data": {
      "text/plain": [
       "dict_keys(['approved_at_utc', 'subreddit', 'selftext', 'author_fullname', 'saved', 'mod_reason_title', 'gilded', 'clicked', 'title', 'link_flair_richtext', 'subreddit_name_prefixed', 'hidden', 'pwls', 'link_flair_css_class', 'downs', 'thumbnail_height', 'top_awarded_type', 'hide_score', 'name', 'quarantine', 'link_flair_text_color', 'upvote_ratio', 'author_flair_background_color', 'subreddit_type', 'ups', 'total_awards_received', 'media_embed', 'thumbnail_width', 'author_flair_template_id', 'is_original_content', 'user_reports', 'secure_media', 'is_reddit_media_domain', 'is_meta', 'category', 'secure_media_embed', 'link_flair_text', 'can_mod_post', 'score', 'approved_by', 'is_created_from_ads_ui', 'author_premium', 'thumbnail', 'edited', 'author_flair_css_class', 'author_flair_richtext', 'gildings', 'content_categories', 'is_self', 'mod_note', 'created', 'link_flair_type', 'wls', 'removed_by_category', 'banned_by', 'author_flair_type', 'domain', 'allow_live_comments', 'selftext_html', 'likes', 'suggested_sort', 'banned_at_utc', 'view_count', 'archived', 'no_follow', 'is_crosspostable', 'pinned', 'over_18', 'all_awardings', 'awarders', 'media_only', 'link_flair_template_id', 'can_gild', 'spoiler', 'locked', 'author_flair_text', 'treatment_tags', 'visited', 'removed_by', 'num_reports', 'distinguished', 'subreddit_id', 'author_is_blocked', 'mod_reason_by', 'removal_reason', 'link_flair_background_color', 'id', 'is_robot_indexable', 'report_reasons', 'author', 'discussion_type', 'num_comments', 'send_replies', 'whitelist_status', 'contest_mode', 'mod_reports', 'author_patreon_flair', 'author_flair_text_color', 'permalink', 'parent_whitelist_status', 'stickied', 'url', 'subreddit_subscribers', 'created_utc', 'num_crossposts', 'media', 'is_video'])"
      ]
     },
     "execution_count": 16,
     "metadata": {},
     "output_type": "execute_result"
    }
   ],
   "source": [
    "json['data']['children'][1]['data'].keys()"
   ]
  },
  {
   "cell_type": "code",
   "execution_count": 17,
   "id": "2aa9ec6d-281e-4069-8cef-6e6e04e3f051",
   "metadata": {},
   "outputs": [
    {
     "name": "stdout",
     "output_type": "stream",
     "text": [
      "name : t3_1bynok8\n",
      "subreddit : disneyparks\n",
      "title : Core Memory \n",
      "selftext : A few weeks ago my fiance (34F) and I (29M) went to Florida on a quick trip, initially to finish a tattoo appointment that was started 3 years ago. We were in Orlando for 4 days and figured that we should at least go to one of the parks while we’re here. She’s never been to Disney and I haven’t been back since I was maybe around 10 years old. She’s not huge on disney or thrill rides, nor was she sold on the idea of “Disney Magic”. \n",
      "\n",
      "Since we were unsure of which park to go to, we decided to go to Disney Springs, since it’s free &amp; while we were there the magic had already begun. She saw her first pair of ears and immediately started looking at all other things disney. We then decided to just buy a 2 day ticket for Magic Kingdom to catch the fireworks and Epcot for drinking around the world. \n",
      "\n",
      "From Disney Springs we head over to Magic Kingdom and we drive up to the employee to pay for parking  and she asks if we prepaid for parking/any discounts/hotel etc. I said nope, we decided to buy tickets a few moments ago! She responded with “Don’t worry about the parking then, this one is on Mickey.”  We were so shocked it took me a moment to process it and actually drive through with caution. I know it seems silly to say because it involves saving money, but it was from that moment of surprise the employee provided some disney magic.\n",
      "\n",
      "Granted, it was around 5pm when we went and the lines for cars were practically empty, the gesture was so nice that it will forever be a favored memory.  My fiance had such a great time, and seeing the fireworks for the first time was so magical. epcot was also super fun and our feet were throbbing by the end of these two days. \n",
      "\n",
      "To that kind-hearted employee, if you happen to come across this, please know that you've etched a cherished memory for two adults embarking on their inaugural visit to Magic Kingdom.\n",
      "upvote_ratio : 0.95\n",
      "num_comments : 7\n",
      "created_utc : 1712546462.0\n"
     ]
    }
   ],
   "source": [
    "info = ['name','subreddit','title','selftext','upvote_ratio','num_comments','created_utc']\n",
    "for item in info:\n",
    "    print(item,':',json['data']['children'][1]['data'][item])"
   ]
  },
  {
   "cell_type": "markdown",
   "id": "8c7ca2d4-1205-4c4e-a26b-01ca7f051041",
   "metadata": {},
   "source": [
    "### Data Collection"
   ]
  },
  {
   "cell_type": "code",
   "execution_count": 18,
   "id": "dd914335-26c1-48ee-b638-b9747fd774fb",
   "metadata": {},
   "outputs": [],
   "source": [
    "# Only need these information 'name','subreddit','title','selftext','upvote_ratio','num_comments','created_utc'\n",
    "\n",
    "def get_subreddit(url):\n",
    "\n",
    "    posts_data = []\n",
    "    after = None\n",
    "    for i in range(40):\n",
    "            if after ==None:\n",
    "                params={}\n",
    "            else:\n",
    "                params = {'after':after}\n",
    "            url=url\n",
    "            res = requests.get(url, params=params, headers=headers)\n",
    "            if res.status_code == 200:\n",
    "                the_json = res.json()\n",
    "                for post in the_json['data']['children']:\n",
    "                    post_data = {\n",
    "                        'name': post['data']['name'],\n",
    "                        'subreddit': post['data']['subreddit'],\n",
    "                        'title': post['data']['title'],\n",
    "                        'selftext': post['data']['selftext'],\n",
    "                        'upvote_ratio': post['data']['upvote_ratio'],\n",
    "                        'num_comments': post['data']['num_comments'],\n",
    "                        'created_utc': post['data']['created_utc']\n",
    "                    }\n",
    "                    posts_data.append(post_data)\n",
    "                after = the_json['data']['after']\n",
    "            else:\n",
    "                print(res.status_code)\n",
    "                break\n",
    "            time.sleep(1)\n",
    "        \n",
    "    df = pd.DataFrame(posts_data)\n",
    "    return df"
   ]
  },
  {
   "cell_type": "code",
   "execution_count": 19,
   "id": "8287347f-24a1-4ed4-9cfb-03b938f2f2c4",
   "metadata": {},
   "outputs": [
    {
     "data": {
      "text/html": [
       "<div>\n",
       "<style scoped>\n",
       "    .dataframe tbody tr th:only-of-type {\n",
       "        vertical-align: middle;\n",
       "    }\n",
       "\n",
       "    .dataframe tbody tr th {\n",
       "        vertical-align: top;\n",
       "    }\n",
       "\n",
       "    .dataframe thead th {\n",
       "        text-align: right;\n",
       "    }\n",
       "</style>\n",
       "<table border=\"1\" class=\"dataframe\">\n",
       "  <thead>\n",
       "    <tr style=\"text-align: right;\">\n",
       "      <th></th>\n",
       "      <th>name</th>\n",
       "      <th>subreddit</th>\n",
       "      <th>title</th>\n",
       "      <th>selftext</th>\n",
       "      <th>upvote_ratio</th>\n",
       "      <th>num_comments</th>\n",
       "      <th>created_utc</th>\n",
       "    </tr>\n",
       "  </thead>\n",
       "  <tbody>\n",
       "    <tr>\n",
       "      <th>995</th>\n",
       "      <td>t3_16kmmzx</td>\n",
       "      <td>disneyparks</td>\n",
       "      <td>Disney Tokyo</td>\n",
       "      <td>Hello. I was wondering if they offer any packa...</td>\n",
       "      <td>0.57</td>\n",
       "      <td>3</td>\n",
       "      <td>1.694910e+09</td>\n",
       "    </tr>\n",
       "    <tr>\n",
       "      <th>996</th>\n",
       "      <td>t3_16km0ul</td>\n",
       "      <td>disneyparks</td>\n",
       "      <td>Why don’t they let the villains roam through MK?</td>\n",
       "      <td>It just seems like it’s lacking fun characters...</td>\n",
       "      <td>0.69</td>\n",
       "      <td>4</td>\n",
       "      <td>1.694908e+09</td>\n",
       "    </tr>\n",
       "    <tr>\n",
       "      <th>997</th>\n",
       "      <td>t3_16k57lf</td>\n",
       "      <td>disneyparks</td>\n",
       "      <td>Epcot Next Weekend</td>\n",
       "      <td>Planning on a quick trip to Disney Epcot for t...</td>\n",
       "      <td>0.67</td>\n",
       "      <td>2</td>\n",
       "      <td>1.694864e+09</td>\n",
       "    </tr>\n",
       "  </tbody>\n",
       "</table>\n",
       "</div>"
      ],
      "text/plain": [
       "           name    subreddit  \\\n",
       "995  t3_16kmmzx  disneyparks   \n",
       "996  t3_16km0ul  disneyparks   \n",
       "997  t3_16k57lf  disneyparks   \n",
       "\n",
       "                                                title  \\\n",
       "995                                      Disney Tokyo   \n",
       "996  Why don’t they let the villains roam through MK?   \n",
       "997                                Epcot Next Weekend   \n",
       "\n",
       "                                              selftext  upvote_ratio  \\\n",
       "995  Hello. I was wondering if they offer any packa...          0.57   \n",
       "996  It just seems like it’s lacking fun characters...          0.69   \n",
       "997  Planning on a quick trip to Disney Epcot for t...          0.67   \n",
       "\n",
       "     num_comments   created_utc  \n",
       "995             3  1.694910e+09  \n",
       "996             4  1.694908e+09  \n",
       "997             2  1.694864e+09  "
      ]
     },
     "execution_count": 19,
     "metadata": {},
     "output_type": "execute_result"
    }
   ],
   "source": [
    "disneyland_url = 'https://www.reddit.com/r/disneyparks/new.json'\n",
    "disneyland_df = get_subreddit(disneyland_url)\n",
    "disneyland_df.tail(3)"
   ]
  },
  {
   "cell_type": "code",
   "execution_count": 20,
   "id": "bac35912-29ba-4d79-9946-9be6b7dc579d",
   "metadata": {},
   "outputs": [
    {
     "data": {
      "text/plain": [
       "(998, 7)"
      ]
     },
     "execution_count": 20,
     "metadata": {},
     "output_type": "execute_result"
    }
   ],
   "source": [
    "disneyland_df.shape"
   ]
  },
  {
   "cell_type": "code",
   "execution_count": 21,
   "id": "03a63fd4-da59-447b-a5b0-aba34a617091",
   "metadata": {},
   "outputs": [
    {
     "data": {
      "text/plain": [
       "998"
      ]
     },
     "execution_count": 21,
     "metadata": {},
     "output_type": "execute_result"
    }
   ],
   "source": [
    "disneyland_df['name'].nunique()"
   ]
  },
  {
   "cell_type": "code",
   "execution_count": 22,
   "id": "44180a5e-d72c-43de-95ac-03e995c6a0d1",
   "metadata": {},
   "outputs": [
    {
     "data": {
      "text/html": [
       "<div>\n",
       "<style scoped>\n",
       "    .dataframe tbody tr th:only-of-type {\n",
       "        vertical-align: middle;\n",
       "    }\n",
       "\n",
       "    .dataframe tbody tr th {\n",
       "        vertical-align: top;\n",
       "    }\n",
       "\n",
       "    .dataframe thead th {\n",
       "        text-align: right;\n",
       "    }\n",
       "</style>\n",
       "<table border=\"1\" class=\"dataframe\">\n",
       "  <thead>\n",
       "    <tr style=\"text-align: right;\">\n",
       "      <th></th>\n",
       "      <th>name</th>\n",
       "      <th>subreddit</th>\n",
       "      <th>title</th>\n",
       "      <th>selftext</th>\n",
       "      <th>upvote_ratio</th>\n",
       "      <th>num_comments</th>\n",
       "      <th>created_utc</th>\n",
       "    </tr>\n",
       "  </thead>\n",
       "  <tbody>\n",
       "    <tr>\n",
       "      <th>0</th>\n",
       "      <td>t3_1byfu2u</td>\n",
       "      <td>universalstudios</td>\n",
       "      <td>What will the extra price be to upgrade 4 day ...</td>\n",
       "      <td>I would like to get an annual pass for two par...</td>\n",
       "      <td>1.00</td>\n",
       "      <td>1</td>\n",
       "      <td>1.712525e+09</td>\n",
       "    </tr>\n",
       "    <tr>\n",
       "      <th>1</th>\n",
       "      <td>t3_1byahv5</td>\n",
       "      <td>universalstudios</td>\n",
       "      <td>Universal City Studios - Universal Studios Hol...</td>\n",
       "      <td></td>\n",
       "      <td>1.00</td>\n",
       "      <td>0</td>\n",
       "      <td>1.712512e+09</td>\n",
       "    </tr>\n",
       "    <tr>\n",
       "      <th>2</th>\n",
       "      <td>t3_1bxw0mx</td>\n",
       "      <td>universalstudios</td>\n",
       "      <td>Pass help</td>\n",
       "      <td>Hey everyone ! I have an urgent question! My d...</td>\n",
       "      <td>0.75</td>\n",
       "      <td>11</td>\n",
       "      <td>1.712466e+09</td>\n",
       "    </tr>\n",
       "  </tbody>\n",
       "</table>\n",
       "</div>"
      ],
      "text/plain": [
       "         name         subreddit  \\\n",
       "0  t3_1byfu2u  universalstudios   \n",
       "1  t3_1byahv5  universalstudios   \n",
       "2  t3_1bxw0mx  universalstudios   \n",
       "\n",
       "                                               title  \\\n",
       "0  What will the extra price be to upgrade 4 day ...   \n",
       "1  Universal City Studios - Universal Studios Hol...   \n",
       "2                                          Pass help   \n",
       "\n",
       "                                            selftext  upvote_ratio  \\\n",
       "0  I would like to get an annual pass for two par...          1.00   \n",
       "1                                                             1.00   \n",
       "2  Hey everyone ! I have an urgent question! My d...          0.75   \n",
       "\n",
       "   num_comments   created_utc  \n",
       "0             1  1.712525e+09  \n",
       "1             0  1.712512e+09  \n",
       "2            11  1.712466e+09  "
      ]
     },
     "execution_count": 22,
     "metadata": {},
     "output_type": "execute_result"
    }
   ],
   "source": [
    "universalstudios_url = 'https://www.reddit.com/r/universalstudios/new.json'\n",
    "universalstudios_df = get_subreddit(universalstudios_url)\n",
    "universalstudios_df.head(3)"
   ]
  },
  {
   "cell_type": "code",
   "execution_count": 23,
   "id": "eecc5487-e609-4ff1-b304-37f7212e0db0",
   "metadata": {},
   "outputs": [
    {
     "data": {
      "text/plain": [
       "(991, 7)"
      ]
     },
     "execution_count": 23,
     "metadata": {},
     "output_type": "execute_result"
    }
   ],
   "source": [
    "universalstudios_df.shape"
   ]
  },
  {
   "cell_type": "code",
   "execution_count": 24,
   "id": "b72da9ce-9585-443f-9c26-116cb154e6ec",
   "metadata": {},
   "outputs": [
    {
     "data": {
      "text/plain": [
       "991"
      ]
     },
     "execution_count": 24,
     "metadata": {},
     "output_type": "execute_result"
    }
   ],
   "source": [
    "universalstudios_df['name'].nunique()"
   ]
  },
  {
   "cell_type": "code",
   "execution_count": 25,
   "id": "222bf31e-e75e-4efb-96b6-31017d97b117",
   "metadata": {},
   "outputs": [],
   "source": [
    "disneyland_df.to_csv('../data/disneyland.csv')\n",
    "universalstudios_df.to_csv('../data/universalstudios.csv')"
   ]
  }
 ],
 "metadata": {
  "kernelspec": {
   "display_name": "Python 3 (ipykernel)",
   "language": "python",
   "name": "python3"
  },
  "language_info": {
   "codemirror_mode": {
    "name": "ipython",
    "version": 3
   },
   "file_extension": ".py",
   "mimetype": "text/x-python",
   "name": "python",
   "nbconvert_exporter": "python",
   "pygments_lexer": "ipython3",
   "version": "3.10.13"
  }
 },
 "nbformat": 4,
 "nbformat_minor": 5
}
